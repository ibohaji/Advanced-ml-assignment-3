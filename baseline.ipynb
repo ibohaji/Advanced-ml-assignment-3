{
 "cells": [
  {
   "cell_type": "code",
   "execution_count": 1,
   "id": "91bc27b0-a36e-4b2b-b8a7-eb9999ba3617",
   "metadata": {},
   "outputs": [],
   "source": [
    "import torch\n",
    "import random\n",
    "import numpy as np\n",
    "from torch_geometric.datasets import TUDataset\n",
    "from torch_geometric.loader import DataLoader\n",
    "from torch_geometric.utils import to_dense_adj, to_dense_batch\n",
    "from torch_geometric.data import Data\n",
    "from torch_geometric.utils import from_scipy_sparse_matrix, to_networkx\n",
    "import scipy.sparse as sp\n",
    "import networkx as nx\n",
    "from networkx.algorithms.graph_hashing import weisfeiler_lehman_graph_hash\n",
    "from tqdm import tqdm"
   ]
  },
  {
   "cell_type": "code",
   "execution_count": 2,
   "id": "c4019845-dc4f-4fef-b188-6c589ab8137c",
   "metadata": {},
   "outputs": [
    {
     "data": {
      "text/plain": [
       "<torch._C.Generator at 0x2b5ffed0df0>"
      ]
     },
     "execution_count": 2,
     "metadata": {},
     "output_type": "execute_result"
    }
   ],
   "source": [
    "seed = 42\n",
    "\n",
    "random.seed(seed)\n",
    "np.random.seed(seed)\n",
    "torch.manual_seed(seed)"
   ]
  },
  {
   "cell_type": "markdown",
   "id": "b1471a8d-2d87-4361-8cd5-e948975f57d9",
   "metadata": {},
   "source": [
    "# 1. familiarize yourself with the dataset （NOT MAIN PART)"
   ]
  },
  {
   "cell_type": "code",
   "execution_count": 14,
   "id": "98cdf1c0-a6e7-444f-b6a7-89e929e057f2",
   "metadata": {},
   "outputs": [
    {
     "name": "stdout",
     "output_type": "stream",
     "text": [
      "edge_index.shape: torch.Size([2, 38])\n",
      "Adjacency matrix size: torch.Size([17, 17])\n",
      "Non-zero elements in the adjacency matrix: 38.0\n",
      "edge_index: tensor([[ 0,  0,  1,  1,  2,  2,  3,  3,  3,  4,  4,  4,  5,  5,  6,  6,  7,  7,\n",
      "          8,  8,  8,  9,  9,  9, 10, 10, 11, 11, 12, 12, 12, 13, 13, 14, 14, 14,\n",
      "         15, 16],\n",
      "        [ 1,  5,  0,  2,  1,  3,  2,  4,  9,  3,  5,  6,  0,  4,  4,  7,  6,  8,\n",
      "          7,  9, 13,  3,  8, 10,  9, 11, 10, 12, 11, 13, 14,  8, 12, 12, 15, 16,\n",
      "         14, 14]])\n",
      "Undirected edge count: 19\n",
      "tensor([[0., 1., 0., 0., 0., 1., 0., 0., 0., 0., 0., 0., 0., 0., 0., 0., 0.],\n",
      "        [1., 0., 1., 0., 0., 0., 0., 0., 0., 0., 0., 0., 0., 0., 0., 0., 0.],\n",
      "        [0., 1., 0., 1., 0., 0., 0., 0., 0., 0., 0., 0., 0., 0., 0., 0., 0.],\n",
      "        [0., 0., 1., 0., 1., 0., 0., 0., 0., 1., 0., 0., 0., 0., 0., 0., 0.],\n",
      "        [0., 0., 0., 1., 0., 1., 1., 0., 0., 0., 0., 0., 0., 0., 0., 0., 0.],\n",
      "        [1., 0., 0., 0., 1., 0., 0., 0., 0., 0., 0., 0., 0., 0., 0., 0., 0.],\n",
      "        [0., 0., 0., 0., 1., 0., 0., 1., 0., 0., 0., 0., 0., 0., 0., 0., 0.],\n",
      "        [0., 0., 0., 0., 0., 0., 1., 0., 1., 0., 0., 0., 0., 0., 0., 0., 0.],\n",
      "        [0., 0., 0., 0., 0., 0., 0., 1., 0., 1., 0., 0., 0., 1., 0., 0., 0.],\n",
      "        [0., 0., 0., 1., 0., 0., 0., 0., 1., 0., 1., 0., 0., 0., 0., 0., 0.],\n",
      "        [0., 0., 0., 0., 0., 0., 0., 0., 0., 1., 0., 1., 0., 0., 0., 0., 0.],\n",
      "        [0., 0., 0., 0., 0., 0., 0., 0., 0., 0., 1., 0., 1., 0., 0., 0., 0.],\n",
      "        [0., 0., 0., 0., 0., 0., 0., 0., 0., 0., 0., 1., 0., 1., 1., 0., 0.],\n",
      "        [0., 0., 0., 0., 0., 0., 0., 0., 1., 0., 0., 0., 1., 0., 0., 0., 0.],\n",
      "        [0., 0., 0., 0., 0., 0., 0., 0., 0., 0., 0., 0., 1., 0., 0., 1., 1.],\n",
      "        [0., 0., 0., 0., 0., 0., 0., 0., 0., 0., 0., 0., 0., 0., 1., 0., 0.],\n",
      "        [0., 0., 0., 0., 0., 0., 0., 0., 0., 0., 0., 0., 0., 0., 1., 0., 0.]])\n"
     ]
    }
   ],
   "source": [
    "dataset = TUDataset(root='/tmp/MUTAG', name='MUTAG')\n",
    "data = dataset[0]\n",
    "\n",
    "edge_index = data.edge_index\n",
    "print(\"edge_index.shape:\", edge_index.shape)  # Directed edge count\n",
    "\n",
    "adj = to_dense_adj(edge_index)[0]  # Adjacency matrix [N, N]\n",
    "print(\"Adjacency matrix size:\", adj.shape)\n",
    "print(\"Non-zero elements in the adjacency matrix:\", adj.sum().item())  # Directed edge count\n",
    "\n",
    "# Count undirected edges\n",
    "print(f\"edge_index: {edge_index}\")\n",
    "print(\"Undirected edge count:\", int(adj.sum().item() // 2))\n",
    "print(adj)\n"
   ]
  },
  {
   "cell_type": "code",
   "execution_count": 4,
   "id": "912a9b2f-cd5b-4484-8e24-933f70f8fd27",
   "metadata": {},
   "outputs": [
    {
     "data": {
      "text/plain": [
       "tensor([[ 0,  0,  1,  1,  2,  2,  3,  3,  3,  4,  4,  4,  5,  5,  6,  6,  7,  7,\n",
       "          8,  8,  8,  9,  9,  9, 10, 10, 11, 11, 12, 12, 12, 13, 13, 14, 14, 14,\n",
       "         15, 16],\n",
       "        [ 1,  5,  0,  2,  1,  3,  2,  4,  9,  3,  5,  6,  0,  4,  4,  7,  6,  8,\n",
       "          7,  9, 13,  3,  8, 10,  9, 11, 10, 12, 11, 13, 14,  8, 12, 12, 15, 16,\n",
       "         14, 14]])"
      ]
     },
     "execution_count": 4,
     "metadata": {},
     "output_type": "execute_result"
    }
   ],
   "source": [
    "edge_index"
   ]
  },
  {
   "cell_type": "code",
   "execution_count": 5,
   "id": "0cf008d6-a6c1-4b10-95fe-dd68e824e267",
   "metadata": {},
   "outputs": [
    {
     "data": {
      "text/plain": [
       "17"
      ]
     },
     "execution_count": 5,
     "metadata": {},
     "output_type": "execute_result"
    }
   ],
   "source": [
    "data.num_nodes"
   ]
  },
  {
   "cell_type": "code",
   "execution_count": 6,
   "id": "2041975b-4c5f-4473-a3ab-ce63ded0ff88",
   "metadata": {},
   "outputs": [
    {
     "data": {
      "text/plain": [
       "38"
      ]
     },
     "execution_count": 6,
     "metadata": {},
     "output_type": "execute_result"
    }
   ],
   "source": [
    "data.num_edges"
   ]
  },
  {
   "cell_type": "markdown",
   "id": "e0174215-a131-4c98-ba97-1cd1d8f44d48",
   "metadata": {},
   "source": [
    "# 2. generate  graph using E.R algorithm"
   ]
  },
  {
   "cell_type": "markdown",
   "id": "dc62c534-36a7-40bd-a9e5-7fd2cf1ffb43",
   "metadata": {},
   "source": [
    "## 2.1 write E.R. algorithm by hand\n"
   ]
  },
  {
   "cell_type": "code",
   "execution_count": 7,
   "id": "cbb0809f-06bc-4f85-8266-e50d497f8993",
   "metadata": {
    "jupyter": {
     "source_hidden": true
    }
   },
   "outputs": [
    {
     "data": {
      "text/plain": [
       "Counter({'a': 3, 'b': 2, 'c': 1})"
      ]
     },
     "execution_count": 7,
     "metadata": {},
     "output_type": "execute_result"
    }
   ],
   "source": [
    "from collections import Counter\n",
    "Counter(['a', 'b', 'a', 'c', 'b', 'a'])\n",
    "# Output: Counter({'a': 3, 'b': 2, 'c': 1})"
   ]
  },
  {
   "cell_type": "code",
   "execution_count": 8,
   "id": "8d370ddc-e6c7-40ee-9c8b-93c6a708693b",
   "metadata": {},
   "outputs": [
    {
     "data": {
      "text/plain": [
       "{17: 0.13888888888888887,\n",
       " 13: 0.17647058823529407,\n",
       " 19: 0.12536549707602337,\n",
       " 11: 0.2,\n",
       " 28: 0.08553791887125221,\n",
       " 16: 0.14374999999999996,\n",
       " 20: 0.11804511278195487,\n",
       " 12: 0.19114219114219114,\n",
       " 22: 0.10735930735930736,\n",
       " 18: 0.12745098039215685,\n",
       " 23: 0.1049626701800615,\n",
       " 27: 0.09401709401709402,\n",
       " 24: 0.09057971014492754,\n",
       " 14: 0.16012558869701726,\n",
       " 15: 0.15918367346938775,\n",
       " 26: 0.09107692307692308,\n",
       " 21: 0.10773809523809523,\n",
       " 25: 0.09444444444444444,\n",
       " 10: 0.2222222222222222}"
      ]
     },
     "execution_count": 8,
     "metadata": {},
     "output_type": "execute_result"
    }
   ],
   "source": [
    "train_dataset = dataset[:]\n",
    "train_graphs_nx = [to_networkx(data, to_undirected=True) for data in train_dataset]\n",
    "\n",
    "\n",
    "node_counts = []\n",
    "density_dict = {}\n",
    "\n",
    "for data in train_dataset:\n",
    "    N = data.num_nodes\n",
    "    E = data.num_edges // 2  \n",
    "    node_counts.append(N)\n",
    "    max_edges = N * (N - 1) / 2\n",
    "    density = E / max_edges if max_edges > 0 else 0\n",
    "    if N not in density_dict:\n",
    "        density_dict[N] = []\n",
    "    density_dict[N].append(density)\n",
    "\n",
    "avg_density = {N: sum(dlist) / len(dlist) for N, dlist in density_dict.items()}\n",
    "avg_density"
   ]
  },
  {
   "cell_type": "code",
   "execution_count": 9,
   "id": "47b67929-4e1e-4d21-bad2-f5afe051f537",
   "metadata": {},
   "outputs": [
    {
     "data": {
      "text/plain": [
       "dict_keys([17, 13, 19, 11, 28, 16, 20, 12, 22, 18, 23, 27, 24, 14, 15, 26, 21, 25, 10])"
      ]
     },
     "execution_count": 9,
     "metadata": {},
     "output_type": "execute_result"
    }
   ],
   "source": [
    "#node_counts\n",
    "freq = Counter(node_counts)\n",
    "freq\n",
    "freq.keys()\n",
    "#freq[15]\n",
    "# Counter(node_counts) #only visual order,not actual order in python3.7+"
   ]
  },
  {
   "cell_type": "code",
   "execution_count": 15,
   "id": "5a46d38f-4c0a-4490-9d83-2a5b33a18731",
   "metadata": {},
   "outputs": [],
   "source": [
    "#sample N from empirical distribution\n",
    "def sample_node_count():\n",
    "    freq = Counter(node_counts)\n",
    "    total = sum(freq.values())\n",
    "    nodes = list(freq.keys())\n",
    "    probs = [freq[n] / total for n in nodes]\n",
    "    return np.random.choice(nodes, p=probs)\n",
    "\n",
    "# generate Erdős-Rényi matrix\n",
    "def ER_adj(N, p):\n",
    "    A = np.zeros((N, N))\n",
    "    for i in range(N):\n",
    "        for j in range(i + 1, N):\n",
    "            if p > np.random.uniform():\n",
    "                A[i, j] = 1\n",
    "                A[j, i] = 1\n",
    "    return A\n",
    "\n",
    "# generate Erdős-Rényi graph\n",
    "def generate_erdos_renyi_graph():\n",
    "    N = sample_node_count()\n",
    "    r = avg_density[N]\n",
    "    #print(f\"N = {N}, r = {r}\")\n",
    "    adj = ER_adj(N, r)\n",
    "    edge_index, _ = from_scipy_sparse_matrix(sp.csr_matrix(adj))\n",
    "    x = torch.ones((N, 1))  # not important \n",
    "    return Data(x=x, edge_index=edge_index)\n",
    "\n",
    "np.random.seed(42) #should not set it in the beginning\n",
    "sampled_graphs = [generate_erdos_renyi_graph() for _ in range(1000)]\n",
    "sampled_graphs_nx = [to_networkx(g, to_undirected=True) for g in sampled_graphs]"
   ]
  },
  {
   "cell_type": "code",
   "execution_count": 17,
   "id": "f316acaa",
   "metadata": {},
   "outputs": [],
   "source": [
    "import pickle \n",
    "\n",
    "file_path = \"baseline_samples.pkl\"\n",
    "with open(file_path, \"wb\") as f:\n",
    "        pickle.dump(sampled_graphs_nx, f)"
   ]
  },
  {
   "cell_type": "markdown",
   "id": "11dea051-0e78-4c88-8d7e-cddbb24c18d3",
   "metadata": {},
   "source": [
    "# 3. the unique and novel"
   ]
  },
  {
   "cell_type": "markdown",
   "id": "8ac086a6-1004-4f42-b051-444c76a63386",
   "metadata": {},
   "source": [
    "## 3.1 counter and weisfeiler_lehman_graph_hash"
   ]
  },
  {
   "cell_type": "code",
   "execution_count": 11,
   "id": "b7c7faee-2c0d-45a9-bd6c-9a8de8030831",
   "metadata": {
    "collapsed": true,
    "jupyter": {
     "outputs_hidden": true,
     "source_hidden": true
    }
   },
   "outputs": [
    {
     "data": {
      "image/png": "[encoded data removed]",
      "text/plain": [
       "<Figure size 1000x500 with 2 Axes>"
      ]
     },
     "metadata": {},
     "output_type": "display_data"
    },
    {
     "name": "stdout",
     "output_type": "stream",
     "text": [
      "WL Hash G1: 0bd0f1eaa883368c79e30b8c04cd26b9\n",
      "WL Hash G2: 0bd0f1eaa883368c79e30b8c04cd26b9\n",
      "WL Hash Equal? True\n",
      "Exactly Isomorphic? False\n"
     ]
    }
   ],
   "source": [
    "\n",
    "import networkx as nx\n",
    "from networkx.algorithms.graph_hashing import weisfeiler_lehman_graph_hash\n",
    "import matplotlib.pyplot as plt \n",
    "\n",
    "\n",
    "# Graph 1 (left side)\n",
    "G1 = nx.Graph()\n",
    "G1.add_edges_from([\n",
    "    (0, 1), (1, 2), (2, 0),  # Top triangle\n",
    "    (3, 4), (4, 5), (5, 3)   # Bottom triangle\n",
    "])\n",
    "\n",
    "# Graph 2 (right side)\n",
    "G2 = nx.Graph()\n",
    "G2.add_edges_from([\n",
    "    (0, 1), (1, 2), (2, 3),  # A path\n",
    "    (3, 4), (4, 5), (5, 0)   # Another path closing the loop\n",
    "])\n",
    "# Plotting both graphs side by side\n",
    "plt.figure(figsize=(10, 5))\n",
    "\n",
    "# Plot G1\n",
    "plt.subplot(1, 2, 1)\n",
    "nx.draw(G1, with_labels=True, node_color='lightblue', edge_color='gray')\n",
    "plt.title(\"Graph G1\")\n",
    "\n",
    "# Plot G2\n",
    "plt.subplot(1, 2, 2)\n",
    "nx.draw(G2, with_labels=True, node_color='lightgreen', edge_color='gray')\n",
    "plt.title(\"Graph G2\")\n",
    "\n",
    "plt.tight_layout()\n",
    "plt.show()\n",
    "# Compare using Weisfeiler-Lehman hash\n",
    "hash1 = weisfeiler_lehman_graph_hash(G1, iterations=5)\n",
    "hash2 = weisfeiler_lehman_graph_hash(G2, iterations=5)\n",
    "print(\"WL Hash G1:\", hash1)\n",
    "print(\"WL Hash G2:\", hash2)\n",
    "print(\"WL Hash Equal?\", hash1 == hash2)\n",
    "\n",
    "# Compare using exact graph isomorphism check\n",
    "iso = nx.is_isomorphic(G1, G2)\n",
    "print(\"Exactly Isomorphic?\", iso)\n"
   ]
  },
  {
   "cell_type": "markdown",
   "id": "f7a10f79-c0c5-4d1f-aeb9-b5054f732dd1",
   "metadata": {},
   "source": [
    "## 3.2 novel unique"
   ]
  },
  {
   "cell_type": "code",
   "execution_count": 12,
   "id": "6be258d8-2d59-4dcc-ac01-2dc14152c89e",
   "metadata": {},
   "outputs": [
    {
     "name": "stdout",
     "output_type": "stream",
     "text": [
      "Novel: 1.0\n",
      "Unique: 0.998\n",
      "Novel and Unique: 0.998\n"
     ]
    }
   ],
   "source": [
    "from collections import Counter\n",
    "from networkx.algorithms.graph_hashing import weisfeiler_lehman_graph_hash\n",
    "\n",
    "train_hashes = []\n",
    "for g in train_graphs_nx:\n",
    "    train_hashes.append(weisfeiler_lehman_graph_hash(g,iterations=5))\n",
    "# Generate hashes list of graphs + counter\n",
    "sampled_hashes = [weisfeiler_lehman_graph_hash(g,iterations=5) for g in sampled_graphs_nx]\n",
    "hash_counter = Counter(sampled_hashes)\n",
    "\n",
    "# Novel: Not in the training set\n",
    "novel_count = sum(1 for h in sampled_hashes if h not in train_hashes)\n",
    "novel_percentage = novel_count / len(sampled_graphs_nx)\n",
    "\n",
    "# Unique: Appears only once in the generated graphs\n",
    "unique_count = sum(1 for h in sampled_hashes if hash_counter[h] == 1)\n",
    "unique_percentage = unique_count / len(sampled_graphs_nx)\n",
    "\n",
    "# Novel and Unique: Not in the training set and appears only once\n",
    "novel_unique_count = sum(1 for h in sampled_hashes if h not in train_hashes and hash_counter[h] == 1)\n",
    "novel_unique_percentage = novel_unique_count / len(sampled_graphs_nx)\n",
    "\n",
    "# Output the three metrics\n",
    "print(\"Novel:\", novel_percentage)\n",
    "print(\"Unique:\", unique_percentage)\n",
    "print(\"Novel and Unique:\", novel_unique_percentage)\n"
   ]
  },
  {
   "cell_type": "markdown",
   "id": "f6e98c1e-4412-4eb7-b887-d4b39d8a4695",
   "metadata": {},
   "source": [
    "# 4. comparison of distribution"
   ]
  },
  {
   "cell_type": "code",
   "execution_count": 13,
   "id": "27af88da-4e64-45f5-a925-217beff9e360",
   "metadata": {},
   "outputs": [
    {
     "ename": "AmbiguousSolution",
     "evalue": "`eigenvector_centrality_numpy` does not give consistent results for disconnected graphs",
     "output_type": "error",
     "traceback": [
      "\u001b[31m---------------------------------------------------------------------------\u001b[39m",
      "\u001b[31mAmbiguousSolution\u001b[39m                         Traceback (most recent call last)",
      "\u001b[36mCell\u001b[39m\u001b[36m \u001b[39m\u001b[32mIn[13]\u001b[39m\u001b[32m, line 33\u001b[39m\n\u001b[32m     30\u001b[39m sampled_cluster = get_clustering_coefficients(sampled_graphs_nx)\n\u001b[32m     32\u001b[39m train_eigen = get_eigenvector_centrality(train_graphs_nx)\n\u001b[32m---> \u001b[39m\u001b[32m33\u001b[39m sampled_eigen = \u001b[43mget_eigenvector_centrality\u001b[49m\u001b[43m(\u001b[49m\u001b[43msampled_graphs_nx\u001b[49m\u001b[43m)\u001b[49m\n\u001b[32m     35\u001b[39m \u001b[38;5;66;03m# --------- Plotting ---------\u001b[39;00m\n\u001b[32m     36\u001b[39m fig, axes = plt.subplots(\u001b[32m3\u001b[39m, \u001b[32m2\u001b[39m, figsize=(\u001b[32m12\u001b[39m, \u001b[32m12\u001b[39m))\n",
      "\u001b[36mCell\u001b[39m\u001b[36m \u001b[39m\u001b[32mIn[13]\u001b[39m\u001b[32m, line 21\u001b[39m, in \u001b[36mget_eigenvector_centrality\u001b[39m\u001b[34m(graphs)\u001b[39m\n\u001b[32m     19\u001b[39m centralities = []\n\u001b[32m     20\u001b[39m \u001b[38;5;28;01mfor\u001b[39;00m g \u001b[38;5;129;01min\u001b[39;00m graphs:\n\u001b[32m---> \u001b[39m\u001b[32m21\u001b[39m     c = \u001b[43mnx\u001b[49m\u001b[43m.\u001b[49m\u001b[43meigenvector_centrality_numpy\u001b[49m\u001b[43m(\u001b[49m\u001b[43mg\u001b[49m\u001b[43m)\u001b[49m\n\u001b[32m     22\u001b[39m     centralities.extend(\u001b[38;5;28mlist\u001b[39m(c.values()))\n\u001b[32m     23\u001b[39m \u001b[38;5;28;01mreturn\u001b[39;00m centralities\n",
      "\u001b[36mFile \u001b[39m\u001b[32m<class 'networkx.utils.decorators.argmap'> compilation 33:3\u001b[39m, in \u001b[36margmap_eigenvector_centrality_numpy_30\u001b[39m\u001b[34m(G, weight, max_iter, tol, backend, **backend_kwargs)\u001b[39m\n\u001b[32m      1\u001b[39m \u001b[38;5;28;01mimport\u001b[39;00m\u001b[38;5;250m \u001b[39m\u001b[34;01mbz2\u001b[39;00m\n\u001b[32m      2\u001b[39m \u001b[38;5;28;01mimport\u001b[39;00m\u001b[38;5;250m \u001b[39m\u001b[34;01mcollections\u001b[39;00m\n\u001b[32m----> \u001b[39m\u001b[32m3\u001b[39m \u001b[38;5;28;01mimport\u001b[39;00m\u001b[38;5;250m \u001b[39m\u001b[34;01mgzip\u001b[39;00m\n\u001b[32m      4\u001b[39m \u001b[38;5;28;01mimport\u001b[39;00m\u001b[38;5;250m \u001b[39m\u001b[34;01minspect\u001b[39;00m\n\u001b[32m      5\u001b[39m \u001b[38;5;28;01mimport\u001b[39;00m\u001b[38;5;250m \u001b[39m\u001b[34;01mitertools\u001b[39;00m\n",
      "\u001b[36mFile \u001b[39m\u001b[32mc:\\Users\\ibrah\\Documents\\DTU\\advanced machine learning\\exercises\\myenv\\Lib\\site-packages\\networkx\\utils\\backends.py:967\u001b[39m, in \u001b[36m_dispatchable.__call__\u001b[39m\u001b[34m(self, backend, *args, **kwargs)\u001b[39m\n\u001b[32m    965\u001b[39m     \u001b[38;5;28;01mif\u001b[39;00m backend \u001b[38;5;129;01mis\u001b[39;00m \u001b[38;5;129;01mnot\u001b[39;00m \u001b[38;5;28;01mNone\u001b[39;00m \u001b[38;5;129;01mand\u001b[39;00m backend != \u001b[33m\"\u001b[39m\u001b[33mnetworkx\u001b[39m\u001b[33m\"\u001b[39m:\n\u001b[32m    966\u001b[39m         \u001b[38;5;28;01mraise\u001b[39;00m \u001b[38;5;167;01mImportError\u001b[39;00m(\u001b[33mf\u001b[39m\u001b[33m\"\u001b[39m\u001b[33m'\u001b[39m\u001b[38;5;132;01m{\u001b[39;00mbackend\u001b[38;5;132;01m}\u001b[39;00m\u001b[33m'\u001b[39m\u001b[33m backend is not installed\u001b[39m\u001b[33m\"\u001b[39m)\n\u001b[32m--> \u001b[39m\u001b[32m967\u001b[39m     \u001b[38;5;28;01mreturn\u001b[39;00m \u001b[38;5;28;43mself\u001b[39;49m\u001b[43m.\u001b[49m\u001b[43morig_func\u001b[49m\u001b[43m(\u001b[49m\u001b[43m*\u001b[49m\u001b[43margs\u001b[49m\u001b[43m,\u001b[49m\u001b[43m \u001b[49m\u001b[43m*\u001b[49m\u001b[43m*\u001b[49m\u001b[43mkwargs\u001b[49m\u001b[43m)\u001b[49m\n\u001b[32m    969\u001b[39m \u001b[38;5;66;03m# Use `backend_name` in this function instead of `backend`.\u001b[39;00m\n\u001b[32m    970\u001b[39m \u001b[38;5;66;03m# This is purely for aesthetics and to make it easier to search for this\u001b[39;00m\n\u001b[32m    971\u001b[39m \u001b[38;5;66;03m# variable since \"backend\" is used in many comments and log/error messages.\u001b[39;00m\n\u001b[32m    972\u001b[39m backend_name = backend\n",
      "\u001b[36mFile \u001b[39m\u001b[32mc:\\Users\\ibrah\\Documents\\DTU\\advanced machine learning\\exercises\\myenv\\Lib\\site-packages\\networkx\\algorithms\\centrality\\eigenvector.py:348\u001b[39m, in \u001b[36meigenvector_centrality_numpy\u001b[39m\u001b[34m(G, weight, max_iter, tol)\u001b[39m\n\u001b[32m    346\u001b[39m connected = nx.is_strongly_connected(G) \u001b[38;5;28;01mif\u001b[39;00m G.is_directed() \u001b[38;5;28;01melse\u001b[39;00m nx.is_connected(G)\n\u001b[32m    347\u001b[39m \u001b[38;5;28;01mif\u001b[39;00m \u001b[38;5;129;01mnot\u001b[39;00m connected:  \u001b[38;5;66;03m# See gh-6888.\u001b[39;00m\n\u001b[32m--> \u001b[39m\u001b[32m348\u001b[39m     \u001b[38;5;28;01mraise\u001b[39;00m nx.AmbiguousSolution(\n\u001b[32m    349\u001b[39m         \u001b[33m\"\u001b[39m\u001b[33m`eigenvector_centrality_numpy` does not give consistent results for disconnected graphs\u001b[39m\u001b[33m\"\u001b[39m\n\u001b[32m    350\u001b[39m     )\n\u001b[32m    351\u001b[39m M = nx.to_scipy_sparse_array(G, nodelist=\u001b[38;5;28mlist\u001b[39m(G), weight=weight, dtype=\u001b[38;5;28mfloat\u001b[39m)\n\u001b[32m    352\u001b[39m _, eigenvector = sp.sparse.linalg.eigs(\n\u001b[32m    353\u001b[39m     M.T, k=\u001b[32m1\u001b[39m, which=\u001b[33m\"\u001b[39m\u001b[33mLR\u001b[39m\u001b[33m\"\u001b[39m, maxiter=max_iter, tol=tol\n\u001b[32m    354\u001b[39m )\n",
      "\u001b[31mAmbiguousSolution\u001b[39m: `eigenvector_centrality_numpy` does not give consistent results for disconnected graphs"
     ]
    }
   ],
   "source": [
    "import matplotlib.pyplot as plt\n",
    "import networkx as nx\n",
    "import numpy as np\n",
    "\n",
    "# --------- Statistical functions ---------\n",
    "def get_node_degrees(graphs):\n",
    "    degrees = []\n",
    "    for g in graphs:\n",
    "        degrees.extend([d for _, d in g.degree()])\n",
    "    return degrees\n",
    "\n",
    "def get_clustering_coefficients(graphs):\n",
    "    coeffs = []\n",
    "    for g in graphs:\n",
    "        coeffs.extend(list(nx.clustering(g).values()))\n",
    "    return coeffs\n",
    "\n",
    "def get_eigenvector_centrality(graphs):\n",
    "    centralities = []\n",
    "    for g in graphs:\n",
    "        c = nx.eigenvector_centrality_numpy(g)\n",
    "        centralities.extend(list(c.values()))\n",
    "    return centralities\n",
    "\n",
    "# --------- Extract statistics ---------\n",
    "train_degrees = get_node_degrees(train_graphs_nx)\n",
    "sampled_degrees = get_node_degrees(sampled_graphs_nx)\n",
    "\n",
    "train_cluster = get_clustering_coefficients(train_graphs_nx)\n",
    "sampled_cluster = get_clustering_coefficients(sampled_graphs_nx)\n",
    "\n",
    "train_eigen = get_eigenvector_centrality(train_graphs_nx)\n",
    "sampled_eigen = get_eigenvector_centrality(sampled_graphs_nx)\n",
    "\n",
    "# --------- Plotting ---------\n",
    "fig, axes = plt.subplots(3, 2, figsize=(12, 12))\n",
    "bins = 30\n",
    "\n",
    "# First row: Degree\n",
    "axes[0, 0].hist(train_degrees, bins=bins, density=True, alpha=0.7, color='blue')\n",
    "axes[0, 0].set_title(\"Train - Degree\")\n",
    "axes[0, 1].hist(sampled_degrees, bins=bins, density=True, alpha=0.7, color='green')\n",
    "axes[0, 1].set_title(\"Sampled - Degree\")\n",
    "\n",
    "# Second row: Clustering Coefficient\n",
    "axes[1, 0].hist(train_cluster, bins=bins, density=True, alpha=0.7, color='blue')\n",
    "axes[1, 0].set_title(\"Train - Clustering Coefficient\")\n",
    "axes[1, 1].hist(sampled_cluster, bins=bins, density=True, alpha=0.7, color='green')\n",
    "axes[1, 1].set_title(\"Sampled - Clustering Coefficient\")\n",
    "\n",
    "# Third row: Eigenvector Centrality\n",
    "axes[2, 0].hist(train_eigen, bins=bins, density=True, alpha=0.7, color='blue')\n",
    "axes[2, 0].set_title(\"Train - Eigenvector Centrality\")\n",
    "axes[2, 1].hist(sampled_eigen, bins=bins, density=True, alpha=0.7, color='green')\n",
    "axes[2, 1].set_title(\"Sampled - Eigenvector Centrality\")\n",
    "\n",
    "# Set common labels\n",
    "for ax in axes.flat:\n",
    "    ax.set_xlabel(\"Value\")\n",
    "    ax.set_ylabel(\"Density\")\n",
    "\n",
    "plt.tight_layout()\n",
    "plt.show()"
   ]
  }
 ],
 "metadata": {
  "kernelspec": {
   "display_name": "myenv",
   "language": "python",
   "name": "python3"
  },
  "language_info": {
   "codemirror_mode": {
    "name": "ipython",
    "version": 3
   },
   "file_extension": ".py",
   "mimetype": "text/x-python",
   "name": "python",
   "nbconvert_exporter": "python",
   "pygments_lexer": "ipython3",
   "version": "3.11.9"
  }
 },
 "nbformat": 4,
 "nbformat_minor": 5
}
